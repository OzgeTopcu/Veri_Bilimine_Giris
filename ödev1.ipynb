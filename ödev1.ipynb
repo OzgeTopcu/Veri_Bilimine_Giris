{
 "cells": [
  {
   "cell_type": "code",
   "execution_count": 1,
   "metadata": {},
   "outputs": [
    {
     "name": "stdout",
     "output_type": "stream",
     "text": [
      "Merhaba ben Özge Topcu, 22 yaşındayım. Osmaniye Korkut Ata Üniversitesi'nde Bilgisayar Mühendisliği bölümünde okuyorum ve aynı zamanda Anadolu Üniversitesi'nde Bilgisayar Programcılığı bölümünü tamamladım. Kefstacks şirketinde çalışarak kendimi yazılım alanında geliştiriyorum.\n"
     ]
    }
   ],
   "source": [
    "string_value = \"Hello World\"\n",
    "integer_value = 42\n",
    "float_value = 42.21\n",
    "\n",
    "name = \"Özge Topcu\"\n",
    "age = 22\n",
    "school1 = \"Osmaniye Korkut Ata Üniversitesi\"\n",
    "department1 = \"Bilgisayar Mühendisliği\"\n",
    "school2 = \"Anadolu Üniversitesi\"\n",
    "department2 = \"Bilgisayar Programcılığı\"\n",
    "internship1 = \"Kefstacks\"\n",
    "internship2 = \"ODC\"\n",
    "\n",
    "print(f\"Merhaba ben {name}, {age} yaşındayım. \"\n",
    "      f\"{school1}'nde {department1} bölümünde okuyorum ve aynı zamanda {school2}'nde {department2} bölümünü tamamladım. \"\n",
    "      f\"{internship1} şirketinde çalışarak kendimi yazılım alanında geliştiriyorum.\")\n"
   ]
  }
 ],
 "metadata": {
  "kernelspec": {
   "display_name": "Python 3",
   "language": "python",
   "name": "python3"
  },
  "language_info": {
   "codemirror_mode": {
    "name": "ipython",
    "version": 3
   },
   "file_extension": ".py",
   "mimetype": "text/x-python",
   "name": "python",
   "nbconvert_exporter": "python",
   "pygments_lexer": "ipython3",
   "version": "3.12.4"
  }
 },
 "nbformat": 4,
 "nbformat_minor": 5
}
